{
  "nbformat": 4,
  "nbformat_minor": 0,
  "metadata": {
    "colab": {
      "provenance": [],
      "mount_file_id": "10NtB5tIIbIHpykECZkHJl1ibbvPV5ngM",
      "authorship_tag": "ABX9TyPqeZchzqjE4eW9CEL6tqJb"
    },
    "kernelspec": {
      "name": "python3",
      "display_name": "Python 3"
    },
    "language_info": {
      "name": "python"
    }
  },
  "cells": [
    {
      "cell_type": "markdown",
      "source": [
        "## IP colab\n"
      ],
      "metadata": {
        "id": "rHncbagKznbs"
      }
    },
    {
      "cell_type": "code",
      "source": [
        "!curl ipecho.net/plain"
      ],
      "metadata": {
        "id": "6QqN6wX5GOD8"
      },
      "execution_count": null,
      "outputs": []
    },
    {
      "cell_type": "markdown",
      "source": [
        "##Puxando dados da API Mercado Livre"
      ],
      "metadata": {
        "id": "Jam2yh13Hld_"
      }
    },
    {
      "cell_type": "code",
      "source": [
        "import requests\n",
        "import pandas as pd\n",
        "\n",
        "# Termo de busca\n",
        "termo_de_busca = input('Pesquise:')\n",
        "\n",
        "# URL da API do Mercado Livre\n",
        "url = f\"(Link API| POR AQUI ){termo_de_busca}\"\n",
        "\n",
        "# Fazer a requisição GET\n",
        "response = requests.get(url)\n",
        "\n",
        "# Verificar se a requisição foi bem-sucedida\n",
        "if response.status_code == 200:\n",
        "    # Carregar os dados em formato JSON\n",
        "    dados = response.json()\n",
        "\n",
        "    # Extrair os dados relevantes\n",
        "    produtos = []\n",
        "    for item in dados.get('results', []):\n",
        "        produto = {\n",
        "            \"Título\": item.get('title'),\n",
        "            \"Preço (R$)\": item.get('price'),\n",
        "            \"Link\": item.get('permalink'),\n",
        "            \"Condição\": item.get('condition'),\n",
        "            \"Categoria\": item.get('category_id')\n",
        "        }\n",
        "        produtos.append(produto)\n",
        "\n",
        "    # Criar o DataFrame\n",
        "    df_mercado_livre = pd.DataFrame(produtos)\n",
        "else:\n",
        "    print(f\"Erro na requisição: {response.status_code}\")"
      ],
      "metadata": {
        "id": "3qfCi3jMzlPE"
      },
      "execution_count": null,
      "outputs": []
    },
    {
      "cell_type": "markdown",
      "source": [
        "## Tratamento simples, trocando os nomes."
      ],
      "metadata": {
        "id": "DIl7LE62S4st"
      }
    },
    {
      "cell_type": "code",
      "source": [
        "#Ordena por valor maior para o menor\n",
        "df_mercado_livre = df_mercado_livre.sort_values(by= 'Preço (R$)', ascending=False)\n",
        "\n",
        "# Trocando NEW por NOVO\n",
        "df_mercado_livre['Condição'] = df_mercado_livre['Condição'].replace('new', 'Novo')\n",
        "df_mercado_livre['Condição'] = df_mercado_livre['Condição'].replace('used', 'Usado')\n",
        "\n",
        "#Troca dos nomes das colunas\n",
        "df_mercado_livre.rename(columns={\n",
        "                              'Título': 'produto',\n",
        "                              'Link' : 'endereço_link',\n",
        "                              'Condição' : 'condicao',\n",
        "                              'Preço (R$)' : 'valor',\n",
        "                              'Categoria' : 'categoria'\n",
        "                              }, inplace=True)\n",
        "#Remover o index\n",
        "df_mercado_livre.reset_index().drop('index', axis = 1)\n",
        "\n"
      ],
      "metadata": {
        "id": "pmwtprGbIdfY",
        "collapsed": true
      },
      "execution_count": null,
      "outputs": []
    },
    {
      "cell_type": "markdown",
      "source": [
        "##Criação do arquivo CSV\n"
      ],
      "metadata": {
        "id": "KjDBi9KPmk4H"
      }
    },
    {
      "cell_type": "code",
      "source": [
        "#Tratamento no Termo de busca e criação do arquivo CSV\n",
        "termo_de_busca = termo_de_busca.strip().replace(\" \", \"_\").lower()\n",
        "df_mercado_livre.to_csv(f'mercado_livre_{termo_de_busca}_tratado.csv', index=False) #csv"
      ],
      "metadata": {
        "id": "gbeekrNZmYie"
      },
      "execution_count": null,
      "outputs": []
    },
    {
      "cell_type": "markdown",
      "source": [
        "## Envio do arquivo CSV para Bucket"
      ],
      "metadata": {
        "id": "6PZs3DdtZpTI"
      }
    },
    {
      "cell_type": "code",
      "source": [
        "# Código com a chave\n",
        "import os\n",
        "from google.colab import auth\n",
        "from google.cloud import storage\n",
        "\n",
        "# Caminho da chave JSON da conta de serviço\n",
        "chave_acesso = '=='\n",
        "os.environ[\"GOOGLE_APPLICATION_CREDENTIALS\"] = chave_acesso\n",
        "\n",
        "project_id = 'projeto-joshua-bootcamp' #ID Projeto google cloud\n",
        "!gcloud config set project {project_id}\n",
        "client = storage.Client()\n",
        "#NOME DA BUCKET\n",
        "bucket_name = '=='\n",
        "bucket = client.bucket(bucket_name)\n",
        "#Destino do arquivo CSV, nome da pasta e nome do arquivo\n",
        "destination_blob_name = (f'arquivos_tratados/mercado_livre_{termo_de_busca}_tratado.csv')\n",
        "#nome do arquivo (DEVE SER IGUAL AO DE CIMA!!!)\n",
        "source_file_name = (f'mercado_livre_{termo_de_busca}_tratado.csv')\n",
        "blob = bucket.blob(destination_blob_name)\n",
        "blob.upload_from_filename(source_file_name)"
      ],
      "metadata": {
        "id": "OFzRhA5K0uCb"
      },
      "execution_count": null,
      "outputs": []
    },
    {
      "cell_type": "markdown",
      "source": [
        "## Etapa SQL, envio e suas def de ddl e consulta"
      ],
      "metadata": {
        "id": "jglQ4FUtzFdY"
      }
    },
    {
      "cell_type": "code",
      "source": [
        "!pip install mysql-connector-python"
      ],
      "metadata": {
        "id": "5Lk6tYKAnP3q"
      },
      "execution_count": null,
      "outputs": []
    },
    {
      "cell_type": "code",
      "source": [
        "import mysql.connector\n",
        "host = '==' # endereço do banco externo que eu quero acessar\n",
        "user = '=='\n",
        "password = '=='\n",
        "database = '=='"
      ],
      "metadata": {
        "id": "af7BFiM3m4jn"
      },
      "execution_count": null,
      "outputs": []
    },
    {
      "cell_type": "markdown",
      "source": [
        "###CÓDIGO"
      ],
      "metadata": {
        "id": "IuOi9jcKnDOu"
      }
    },
    {
      "cell_type": "code",
      "source": [
        "def consulta(query, tabela):\n",
        "  connection = mysql.connector.connect(\n",
        "      host = host,\n",
        "      user = user,\n",
        "      password = password,\n",
        "      database = database\n",
        "  )\n",
        "  cursor = connection.cursor()\n",
        "\n",
        "  try:\n",
        "    cursor.execute(query)\n",
        "    result = cursor.fetchall()\n",
        "    globals()[tabela] = pd.DataFrame(result, columns=cursor.column_names)\n",
        "    display(globals()[tabela])\n",
        "  finally:\n",
        "    cursor.close()\n",
        "    connection.close()\n",
        "\n",
        "def ddl(query):\n",
        "\n",
        "    connection = mysql.connector.connect(\n",
        "        host=host,\n",
        "        user=user,\n",
        "        password=password,\n",
        "        database=database\n",
        "    )\n",
        "    cursor = connection.cursor()\n",
        "\n",
        "    try:\n",
        "        cursor.execute(query)\n",
        "        connection.commit()  # Confirma as mudanças no banco\n",
        "        print(f\"Comando DDL executado com sucesso:\\n{query}\")\n",
        "    except mysql.connector.Error as err:\n",
        "        print(f\"Erro ao executar o comando DDL: {err}\")\n",
        "    finally:\n",
        "        cursor.close()\n",
        "        connection.close()"
      ],
      "metadata": {
        "id": "-9S7L_WtzSqj"
      },
      "execution_count": null,
      "outputs": []
    },
    {
      "cell_type": "code",
      "source": [
        "ddl(f'''\n",
        "CREATE TABLE mercado_livre_{termo_de_busca}(\n",
        "id INT AUTO_INCREMENT PRIMARY KEY,\n",
        "produto VARCHAR(255),\n",
        "endereço_link VARCHAR(255),\n",
        "condicao VARCHAR(50),\n",
        "valor DECIMAL(10,2),\n",
        "categoria VARCHAR(255)\n",
        ");\n",
        "''')"
      ],
      "metadata": {
        "id": "PSTlVXGtzx3t",
        "collapsed": true
      },
      "execution_count": null,
      "outputs": []
    },
    {
      "cell_type": "code",
      "source": [
        "csv_file = (f'/content/mercado_livre_{termo_de_busca}_tratado.csv')\n",
        "df_SQL = pd.read_csv(csv_file)\n",
        "\n",
        "tabela_nome = f'mercado_livre_{termo_de_busca}'\n",
        "colunas = list(df_SQL.columns)\n",
        "colunas_string = ', '.join(colunas)\n",
        "\n",
        "#ordem : produto, valor, condicao, categoria, endereço_link\n",
        "#dados_string = ', '.join( )\n",
        "\n",
        "dados_list= []\n",
        "for i in df_SQL.set_index('produto').itertuples():\n",
        "  dados_list.append(tuple(i))\n",
        "\n",
        "\n",
        "ddl(f'''\n",
        "INSERT INTO {tabela_nome} ({colunas_string})\n",
        "VALUES\n",
        "  {', '.join([str(i) for i in dados_list])};\n",
        "''')"
      ],
      "metadata": {
        "id": "PwsoD_4Z3mto",
        "collapsed": true
      },
      "execution_count": null,
      "outputs": []
    },
    {
      "cell_type": "code",
      "source": [
        "consulta(f'''\n",
        "SELECT * FROM  mercado_livre_{termo_de_busca};\n",
        "''',''' ''')"
      ],
      "metadata": {
        "collapsed": true,
        "id": "DIlmpDpAKJZl"
      },
      "execution_count": null,
      "outputs": []
    },
    {
      "cell_type": "markdown",
      "source": [
        "## Bigquery do Google cloud"
      ],
      "metadata": {
        "id": "K2yZNiajLv0f"
      }
    },
    {
      "cell_type": "code",
      "source": [
        "from google.colab import files\n",
        "from google.cloud import bigquery\n",
        "from google.colab import auth\n",
        "import os\n",
        "\n",
        "\n",
        "chave_acesso = '=='\n",
        "os.environ[\"GOOGLE_APPLICATION_CREDENTIALS\"] = chave_acesso\n",
        "\n",
        "# Criar o cliente do BigQuery\n",
        "client = bigquery.Client()\n",
        "\n",
        "\n",
        "# Definir o ID do projeto e o ID da tabela\n",
        "project_id = '`=='\n",
        "table_id = (f'==.{termo_de_busca}')\n",
        "\n",
        "df_bigquery = pd.read_csv(f'/content/mercado_livre_{termo_de_busca}_tratado.csv')\n",
        "\n",
        "# Enviar o DataFrame para o BigQuery\n",
        "df_bigquery.to_gbq(table_id, project_id=project_id, if_exists='replace')"
      ],
      "metadata": {
        "id": "o9s0FOQZLzQP",
        "collapsed": true
      },
      "execution_count": null,
      "outputs": []
    },
    {
      "cell_type": "markdown",
      "source": [
        "##Envio do arquivo CSV para o MongoDB"
      ],
      "metadata": {
        "id": "203vrzGmmAy1"
      }
    },
    {
      "cell_type": "code",
      "source": [
        "!pip install pymongo #Baixando pymongo"
      ],
      "metadata": {
        "collapsed": true,
        "id": "yXW6kf6VlNqw"
      },
      "execution_count": null,
      "outputs": []
    },
    {
      "cell_type": "code",
      "source": [
        "from pymongo import MongoClient\n",
        "# Conectar ao MongoDB Atlas\n",
        "client = MongoClient('==')\n",
        "db = client['==']\n",
        "\n",
        "df_mongo = pd.read_csv(f'/content/mercado_livre_{termo_de_busca}_tratado.csv')\n",
        "#Transforma em dicionario\n",
        "df_mongo = df_mongo.to_dict(orient='records')\n",
        "#Cria a colecao no MongoDb\n",
        "colecao= db['==']\n",
        "#enviar a coleção para o mongoDB\n",
        "colecao.insert_many(df_mongo)"
      ],
      "metadata": {
        "collapsed": true,
        "id": "zNaOafdLmAIz"
      },
      "execution_count": null,
      "outputs": []
    }
  ]
}